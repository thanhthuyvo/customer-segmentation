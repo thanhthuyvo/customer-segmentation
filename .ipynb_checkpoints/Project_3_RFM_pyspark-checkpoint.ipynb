{
 "cells": [
  {
   "cell_type": "code",
   "execution_count": 203,
   "id": "5b6920bc",
   "metadata": {},
   "outputs": [],
   "source": [
    "import findspark\n",
    "findspark.init()"
   ]
  },
  {
   "cell_type": "code",
   "execution_count": 1,
   "id": "2144c0b3",
   "metadata": {},
   "outputs": [],
   "source": [
    "import pyspark\n",
    "from pyspark.sql import SparkSession\n",
    "from pyspark.sql.functions import col\n",
    "from pyspark.ml.linalg import Vectors\n",
    "from pyspark.ml.feature import VectorAssembler\n",
    "from pyspark.ml.feature import StandardScaler\n",
    "from pyspark.ml.feature import MinMaxScaler\n",
    "from pyspark.ml.clustering import KMeans\n",
    "from pyspark.ml.evaluation import ClusteringEvaluator\n",
    "from pyspark.sql.functions import *\n",
    "\n",
    "from pyspark.sql.functions import col"
   ]
  },
  {
   "cell_type": "code",
   "execution_count": 2,
   "id": "18211d72",
   "metadata": {},
   "outputs": [
    {
     "name": "stdout",
     "output_type": "stream",
     "text": [
      "C:\\Users\\khaih\\Downloads\\Project 3\\Data\n"
     ]
    }
   ],
   "source": [
    "%cd \"C:\\Users\\khaih\\Downloads\\Project 3\\Data\""
   ]
  },
  {
   "cell_type": "code",
   "execution_count": 3,
   "id": "275452ed",
   "metadata": {},
   "outputs": [],
   "source": [
    "spark = SparkSession.builder.appName('KMeans_RFM').getOrCreate()"
   ]
  },
  {
   "cell_type": "code",
   "execution_count": 4,
   "id": "c3f11079",
   "metadata": {},
   "outputs": [],
   "source": [
    "data = spark.read.csv(\"RFM_data.csv\", header=True,\n",
    "                      inferSchema=True)"
   ]
  },
  {
   "cell_type": "code",
   "execution_count": 5,
   "id": "8ff7ade3",
   "metadata": {},
   "outputs": [
    {
     "name": "stdout",
     "output_type": "stream",
     "text": [
      "+-----------+-------+---------+--------+---+---+---+-----------+---------+---------+\n",
      "|customer_id|Recency|Frequency|Monetary|  R|  F|  M|RFM_Segment|RFM_Score|RFM_Level|\n",
      "+-----------+-------+---------+--------+---+---+---+-----------+---------+---------+\n",
      "|       7592|      1|      201|13990.93|  4|  4|  4|        444|       12|    STARS|\n",
      "|      14048|      0|      217| 8976.33|  4|  4|  4|        444|       12|    STARS|\n",
      "|       7983|      5|      149| 6973.07|  4|  4|  4|        444|       12|    STARS|\n",
      "+-----------+-------+---------+--------+---+---+---+-----------+---------+---------+\n",
      "only showing top 3 rows\n",
      "\n"
     ]
    }
   ],
   "source": [
    "data.show(3)"
   ]
  },
  {
   "cell_type": "code",
   "execution_count": 6,
   "id": "6156e1f9",
   "metadata": {},
   "outputs": [],
   "source": [
    "data=data.filter(col(\"Monetary\")>0)"
   ]
  },
  {
   "cell_type": "code",
   "execution_count": 7,
   "id": "aa380566",
   "metadata": {},
   "outputs": [
    {
     "data": {
      "text/plain": [
       "23502"
      ]
     },
     "execution_count": 7,
     "metadata": {},
     "output_type": "execute_result"
    }
   ],
   "source": [
    "data.count()"
   ]
  },
  {
   "cell_type": "code",
   "execution_count": 8,
   "id": "16035f32",
   "metadata": {},
   "outputs": [
    {
     "data": {
      "text/plain": [
       "23502"
      ]
     },
     "execution_count": 8,
     "metadata": {},
     "output_type": "execute_result"
    }
   ],
   "source": [
    "data.dropna().count()"
   ]
  },
  {
   "cell_type": "code",
   "execution_count": 9,
   "id": "df6c6b54",
   "metadata": {},
   "outputs": [],
   "source": [
    "vec_assembler = VectorAssembler(inputCols = [\"Recency\",\"Frequency\",\"Monetary\"], outputCol='features')"
   ]
  },
  {
   "cell_type": "code",
   "execution_count": 10,
   "id": "9ec09d10",
   "metadata": {},
   "outputs": [],
   "source": [
    "final_data = vec_assembler.transform(data)"
   ]
  },
  {
   "cell_type": "code",
   "execution_count": 11,
   "id": "823f49ac",
   "metadata": {},
   "outputs": [
    {
     "name": "stdout",
     "output_type": "stream",
     "text": [
      "+-----------+-------+---------+--------+---+---+---+-----------+---------+---------+--------------------+\n",
      "|customer_id|Recency|Frequency|Monetary|  R|  F|  M|RFM_Segment|RFM_Score|RFM_Level|            features|\n",
      "+-----------+-------+---------+--------+---+---+---+-----------+---------+---------+--------------------+\n",
      "|       7592|      1|      201|13990.93|  4|  4|  4|        444|       12|    STARS|[1.0,201.0,13990.93]|\n",
      "|      14048|      0|      217| 8976.33|  4|  4|  4|        444|       12|    STARS| [0.0,217.0,8976.33]|\n",
      "|       7983|      5|      149| 6973.07|  4|  4|  4|        444|       12|    STARS| [5.0,149.0,6973.07]|\n",
      "+-----------+-------+---------+--------+---+---+---+-----------+---------+---------+--------------------+\n",
      "only showing top 3 rows\n",
      "\n"
     ]
    }
   ],
   "source": [
    "final_data.show(3)"
   ]
  },
  {
   "cell_type": "markdown",
   "id": "052aef5f",
   "metadata": {},
   "source": [
    "## Chuẩn hoá dữ liệu trước khi chạy Kmeans"
   ]
  },
  {
   "cell_type": "code",
   "execution_count": 12,
   "id": "0f3bc364",
   "metadata": {},
   "outputs": [],
   "source": [
    "scaler = StandardScaler(inputCol='features', outputCol='scaledFeatures')"
   ]
  },
  {
   "cell_type": "code",
   "execution_count": 13,
   "id": "128ff416",
   "metadata": {},
   "outputs": [],
   "source": [
    "ScalerModel=scaler.fit(final_data)"
   ]
  },
  {
   "cell_type": "code",
   "execution_count": 14,
   "id": "484298bf",
   "metadata": {},
   "outputs": [],
   "source": [
    "final_data =ScalerModel.transform(final_data)"
   ]
  },
  {
   "cell_type": "code",
   "execution_count": 15,
   "id": "2711bb65",
   "metadata": {},
   "outputs": [
    {
     "name": "stdout",
     "output_type": "stream",
     "text": [
      "+-----------+-------+---------+--------+---+---+---+-----------+---------+---------+--------------------+--------------------+\n",
      "|customer_id|Recency|Frequency|Monetary|  R|  F|  M|RFM_Segment|RFM_Score|RFM_Level|            features|      scaledFeatures|\n",
      "+-----------+-------+---------+--------+---+---+---+-----------+---------+---------+--------------------+--------------------+\n",
      "|       7592|      1|      201|13990.93|  4|  4|  4|        444|       12|    STARS|[1.0,201.0,13990.93]|[0.00551544588297...|\n",
      "|      14048|      0|      217| 8976.33|  4|  4|  4|        444|       12|    STARS| [0.0,217.0,8976.33]|[0.0,45.761555134...|\n",
      "|       7983|      5|      149| 6973.07|  4|  4|  4|        444|       12|    STARS| [5.0,149.0,6973.07]|[0.02757722941486...|\n",
      "+-----------+-------+---------+--------+---+---+---+-----------+---------+---------+--------------------+--------------------+\n",
      "only showing top 3 rows\n",
      "\n"
     ]
    }
   ],
   "source": [
    "final_data.show(3, truncate=True)"
   ]
  },
  {
   "cell_type": "markdown",
   "id": "10b110b7",
   "metadata": {},
   "source": [
    "## Chạy model Kmeans"
   ]
  },
  {
   "cell_type": "code",
   "execution_count": null,
   "id": "26df2223",
   "metadata": {},
   "outputs": [],
   "source": [
    "k_list = []\n",
    "silhouette_list = []\n",
    "sil_str= \"\"\n",
    "for k in range(2,11):\n",
    "    kmeans = KMeans(featuresCol='scaledFeatures', k=k)\n",
    "    model = kmeans.fit(final_data)\n",
    "    k_list.append(k)\n",
    "\n",
    "  #silhouette\n",
    "    predictions = model.transform(final_data)\n",
    "\n",
    "  #evaluate clustering by computing Silhouette score\n",
    "    evaluator = ClusteringEvaluator()\n",
    "    silhouette = evaluator.evaluate(predictions)\n",
    "    silhouette_list.append(silhouette)\n",
    "\n",
    "    sil_str = sil_str + \"With k = \" +str(k) +\" - Silhouette = \" +str(silhouette) + \"\\n\""
   ]
  },
  {
   "cell_type": "code",
   "execution_count": null,
   "id": "5ddedcaa",
   "metadata": {},
   "outputs": [],
   "source": [
    "import pandas as pd\n",
    "import matplotlib.pyplot as plt\n",
    "import seaborn as sns"
   ]
  },
  {
   "cell_type": "code",
   "execution_count": null,
   "id": "8aa44088",
   "metadata": {},
   "outputs": [],
   "source": [
    "plt.plot(k_list, silhouette_list)\n",
    "plt.show()"
   ]
  },
  {
   "cell_type": "code",
   "execution_count": null,
   "id": "63937d5b",
   "metadata": {},
   "outputs": [],
   "source": [
    "print(sil_str)"
   ]
  },
  {
   "cell_type": "markdown",
   "id": "399f97d3",
   "metadata": {},
   "source": [
    "### Chọn k=5 để chạy model"
   ]
  },
  {
   "cell_type": "code",
   "execution_count": null,
   "id": "59c54fd0",
   "metadata": {},
   "outputs": [],
   "source": [
    "kmeans = KMeans(featuresCol='scaledFeatures', k=5)\n",
    "model = kmeans.fit(final_data)"
   ]
  },
  {
   "cell_type": "code",
   "execution_count": null,
   "id": "9b5ff7a8",
   "metadata": {},
   "outputs": [],
   "source": [
    "predictions = model.transform(final_data)\n",
    "\n",
    "  #evaluate clustering by computing Silhouette score\n",
    "evaluator = ClusteringEvaluator()\n",
    "silhouette = evaluator.evaluate(predictions)\n",
    "print(\"Silhouette = \", str(silhouette))"
   ]
  },
  {
   "cell_type": "code",
   "execution_count": null,
   "id": "5320c014",
   "metadata": {},
   "outputs": [],
   "source": [
    "#Show result\n",
    "centers = model.clusterCenters()\n",
    "print(\"Cluster Center: \")\n",
    "for center in centers:\n",
    "  print(center)"
   ]
  },
  {
   "cell_type": "code",
   "execution_count": null,
   "id": "f0ede71d",
   "metadata": {},
   "outputs": [],
   "source": [
    "predictions = model.transform(final_data)"
   ]
  },
  {
   "cell_type": "code",
   "execution_count": null,
   "id": "85428da7",
   "metadata": {},
   "outputs": [],
   "source": [
    "predictions.groupby('prediction').count().show()"
   ]
  },
  {
   "cell_type": "code",
   "execution_count": null,
   "id": "6849c17b",
   "metadata": {},
   "outputs": [],
   "source": [
    "from pyspark.ml.functions import *"
   ]
  },
  {
   "cell_type": "code",
   "execution_count": null,
   "id": "a682da80",
   "metadata": {},
   "outputs": [],
   "source": [
    "temp = final_data.select(\"features\").rdd.map(lambda x: x[0].toArray().tolist()).toDF()"
   ]
  },
  {
   "cell_type": "code",
   "execution_count": null,
   "id": "9f059d41",
   "metadata": {},
   "outputs": [],
   "source": [
    "temp.show(3)"
   ]
  },
  {
   "cell_type": "code",
   "execution_count": null,
   "id": "38ea248d",
   "metadata": {},
   "outputs": [],
   "source": [
    "temp= temp.select(col('_1').alias('x_scale'), col('_2').alias('y_scale'), col('_3').alias('z_scale'))"
   ]
  },
  {
   "cell_type": "code",
   "execution_count": null,
   "id": "142fe8e8",
   "metadata": {},
   "outputs": [],
   "source": [
    "temp.show(3)"
   ]
  },
  {
   "cell_type": "code",
   "execution_count": null,
   "id": "bfc93f7b",
   "metadata": {},
   "outputs": [],
   "source": [
    "from pyspark.sql.functions import monotonically_increasing_id as mi\n",
    "#combined temp to final\n",
    "final_data=final_data.withColumn('row_index', mi())\n",
    "temp=temp.withColumn('row_index', mi())\n",
    "final_data = final_data.join(temp, on=['row_index']).sort('row_index')\n",
    "\n",
    "data_result = predictions.select('prediction')\n",
    "data_result = data_result.withColumn('row_index', mi())\n",
    "final_data = final_data.join(data_result, on=['row_index']).sort('row_index').drop('row_index')"
   ]
  },
  {
   "cell_type": "code",
   "execution_count": null,
   "id": "0873a249",
   "metadata": {},
   "outputs": [],
   "source": [
    "final_data.show(3)"
   ]
  },
  {
   "cell_type": "code",
   "execution_count": null,
   "id": "0fcffd59",
   "metadata": {},
   "outputs": [],
   "source": [
    "df = final_data[['x_scale', 'y_scale', 'z_scale', 'prediction']].toPandas()"
   ]
  },
  {
   "cell_type": "code",
   "execution_count": null,
   "id": "046a119e",
   "metadata": {},
   "outputs": [],
   "source": [
    "center_df = pd.DataFrame(centers)\n",
    "center_df = center_df.rename(columns={0: 'x_center', 1: 'y_center', 2: 'z_center'})\n",
    "center_df.head()"
   ]
  },
  {
   "cell_type": "code",
   "execution_count": null,
   "id": "d1de3352",
   "metadata": {},
   "outputs": [],
   "source": [
    "import numpy as np\n",
    "import pandas as pd\n",
    "import matplotlib.pyplot as plt\n",
    "from mpl_toolkits.mplot3d import Axes3D"
   ]
  },
  {
   "cell_type": "code",
   "execution_count": null,
   "id": "35243c43",
   "metadata": {},
   "outputs": [],
   "source": [
    "fig  = plt.figure(figsize=(12,10))\n",
    "ax = fig.add_subplot(projection='3d')\n",
    "\n",
    "ax.scatter(df.x_scale, df.y_scale,df.z_scale,c=df.prediction)\n",
    "ax.set_xlabel('x')\n",
    "ax.set_ylabel('y')\n",
    "ax.set_zlabel('z')\n",
    "plt.show()"
   ]
  },
  {
   "cell_type": "code",
   "execution_count": null,
   "id": "bab7e1b7",
   "metadata": {},
   "outputs": [],
   "source": [
    "from pyspark.sql import functions as F\n",
    "analysis = predictions\\\n",
    "    .groupBy('prediction')\\\n",
    "    .agg(F.round(avg('Recency'),2).alias('Avg Recency'),\n",
    "         F.round(avg('Frequency'),2).alias('Avg Frequency'),\n",
    "         F.round(avg('Monetary'),2).alias('Avg Monetary'))\n",
    "         F.round(count('Monetary'),2).alias('Avg Monetary'))\n",
    "analysis.show()"
   ]
  },
  {
   "cell_type": "code",
   "execution_count": 259,
   "id": "a6e1d6ea",
   "metadata": {},
   "outputs": [
    {
     "name": "stdout",
     "output_type": "stream",
     "text": [
      "+----------+-----------+-------------+------------+-----------+\n",
      "|prediction|Avg Recency|Avg Frequency|Avg Monetary|       type|\n",
      "+----------+-----------+-------------+------------+-----------+\n",
      "|         1|     484.63|         1.37|       42.82| Lost Cheap|\n",
      "|         3|     136.65|         4.36|      141.74|    Regular|\n",
      "|         4|        2.0|        189.0|     9980.11|       Star|\n",
      "|         2|      50.81|        42.08|     2449.32|Big Spender|\n",
      "|         0|      67.27|        13.83|      602.57|      Loyal|\n",
      "+----------+-----------+-------------+------------+-----------+\n",
      "\n"
     ]
    }
   ],
   "source": [
    "def cluster_function(prediction):\n",
    "    if prediction ==0:\n",
    "        return \"Loyal\"\n",
    "    elif prediction ==1:\n",
    "        return \"Lost Cheap\"\n",
    "    elif prediction ==2:\n",
    "        return \"Big Spender\"\n",
    "    elif prediction ==3:\n",
    "        return \"Regular\"\n",
    "    return \"Star\"\n",
    "\n",
    "cluster_function_udf = udf(cluster_function, StringType())\n",
    "analysis=analysis.withColumn(\"type\", cluster_function_udf(analysis['prediction']))\n",
    "analysis.show()"
   ]
  },
  {
   "cell_type": "markdown",
   "id": "395d14e3",
   "metadata": {},
   "source": [
    "### Nhận xét:\n",
    "\n",
    "- Cluster 0(Loyal - KH có mức chi tiêu trung bình, tần suất mua hàng vừa phải): AVG Recency: 67.22, AVG Frequency: 13.83, AVG Monetary: 602.2\n",
    "\n",
    "- Cluster 1(Lost Cheap - KH chi tiêu ít, tần suất mua hàng thấp, thời gian mua hàng xa - Không tiêu xài nhiều cho nhóm KH này): AVG Recency: 484.63, AVG Frequency: 1.37, AVG Monetary: 42.82\n",
    "- Cluster 2(Big Spender - KH chi nhiều tiền và có tần suất mua hàng cao): AVG Recency: 50.81, AVG Frequency: 42.08, AVG Monetary: 2449.32\n",
    "- Cluster 3(Regular - KH chi tiêu bình thường và có tần suất mua hàng tạm ổn): AVG Recency: 136.66, AVG Frequency: 4.36, AVG Monetary: 141.74\n",
    "- Cluster 4(Star - KH mua gần đây, mua nhiều): AVG Recency: 2.0, AVG Frequency: 289.0, AVG Monetary: 9980.11"
   ]
  },
  {
   "cell_type": "code",
   "execution_count": null,
   "id": "726db316",
   "metadata": {},
   "outputs": [],
   "source": []
  }
 ],
 "metadata": {
  "kernelspec": {
   "display_name": "Python 3 (ipykernel)",
   "language": "python",
   "name": "python3"
  },
  "language_info": {
   "codemirror_mode": {
    "name": "ipython",
    "version": 3
   },
   "file_extension": ".py",
   "mimetype": "text/x-python",
   "name": "python",
   "nbconvert_exporter": "python",
   "pygments_lexer": "ipython3",
   "version": "3.9.13"
  }
 },
 "nbformat": 4,
 "nbformat_minor": 5
}
